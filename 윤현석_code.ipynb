{
 "cells": [
  {
   "cell_type": "code",
   "execution_count": 1,
   "id": "9eb5f3ba-37bd-4e90-911b-ea36897ba6f0",
   "metadata": {},
   "outputs": [],
   "source": [
    "import pandas as pd\n",
    "import matplotlib.pyplot as plt"
   ]
  },
  {
   "cell_type": "code",
   "execution_count": null,
   "id": "fe24f6f7-7662-4729-9d53-ae7e7cccf9c0",
   "metadata": {},
   "outputs": [],
   "source": [
    "# 데이터 로드\n",
    "data_path = '/~/Train.csv'\n",
    "df = pd.read_csv(data_path)"
   ]
  },
  {
   "cell_type": "code",
   "execution_count": null,
   "id": "107d8232-502a-4da3-87b8-587ba108a0fd",
   "metadata": {},
   "outputs": [],
   "source": [
    "# 각 'Warehouse_block' 및 'Customer_rating'의 개수 집계\n",
    "ratings_distribution = df.groupby(['Warehouse_block', 'Customer_rating']).size().unstack(fill_value=0)"
   ]
  },
  {
   "cell_type": "code",
   "execution_count": null,
   "id": "7dd7c921-d023-46fe-83db-9b79ec610095",
   "metadata": {},
   "outputs": [],
   "source": [
    "# 색상 지정\n",
    "colors = ['#ff9999','#66b3ff','#99ff99','#ffcc99','#c2c2f0']"
   ]
  },
  {
   "cell_type": "code",
   "execution_count": null,
   "id": "f388b2ed-ab97-4da5-a1ad-848150cef0c0",
   "metadata": {},
   "outputs": [],
   "source": [
    "# 창고 별 고객 평점 분포 파이 차트 생성\n",
    "fig, axes = plt.subplots(nrows=1, ncols=len(ratings_distribution.index), figsize=(18, 6))\n",
    "fig.suptitle('Customer Rating Distribution by Warehouse Block', fontsize=16)\n",
    "for idx, (block, ratings) in enumerate(ratings_distribution.iterrows()):\n",
    "    axes[idx].pie(ratings, labels=ratings.index, autopct='%1.1f%%', colors=colors, startangle=140)\n",
    "    axes[idx].set_title(f'Warehouse {block} Ratings')\n",
    "plt.tight_layout(rect=[0, 0.03, 1, 0.95])  # 상단 제목과 각 차트간 여백 조정\n",
    "plt.show()\n",
    "# Set the aesthetic style of the plots\n",
    "sns.set(style=\"whitegrid\")"
   ]
  },
  {
   "cell_type": "code",
   "execution_count": null,
   "id": "62688da3-f721-4b4e-aa43-cf9b1e590808",
   "metadata": {},
   "outputs": [],
   "source": [
    "# 운송 방식 별 고객 평점 분포\n",
    "plt.figure(figsize=(8, 5))\n",
    "sns.barplot(data=data, x='Mode_of_Shipment', y='Customer_rating', palette='coolwarm', ci=None)\n",
    "plt.title('Average Customer Ratings by Mode of Shipment')\n",
    "plt.xlabel('Mode of Shipment')\n",
    "plt.ylabel('Average Customer Rating')\n",
    "plt.show()"
   ]
  },
  {
   "cell_type": "code",
   "execution_count": null,
   "id": "ddb51695-19e8-4fd2-83eb-d27615b49f6a",
   "metadata": {},
   "outputs": [],
   "source": [
    "# 문의 전화 횟수 별 고객 평점 분포\n",
    "plt.figure(figsize=(10, 6))\n",
    "sns.boxplot(data=data, x='Customer_care_calls', y='Customer_rating', palette='Set2')\n",
    "plt.title('Distribution of Customer Ratings by Number of Customer Care Calls')\n",
    "plt.xlabel('Number of Customer Care Calls')\n",
    "plt.ylabel('Customer Rating')\n",
    "plt.grid(True)\n",
    "plt.show()"
   ]
  },
  {
   "cell_type": "code",
   "execution_count": null,
   "id": "0437327d-0c41-4684-8fd3-c6c4bdf73f02",
   "metadata": {},
   "outputs": [],
   "source": [
    "# 문의전화횟수 회귀분석\n",
    "plt.figure(figsize=(10, 6))\n",
    "sns.scatterplot(data=data, x='Customer_care_calls', y='Customer_rating', color='blue', alpha=0.5)\n",
    "slope = model.params['Customer_care_calls']\n",
    "intercept = model.params['const']\n",
    "x_vals = data['Customer_care_calls']\n",
    "y_vals = intercept + slope * x_vals\n",
    "plt.plot(x_vals, y_vals, color='red')\n",
    "plt.title('Customer Care Calls vs Customer Rating with Regression Line')\n",
    "plt.xlabel('Number of Customer Care Calls')\n",
    "plt.ylabel('Customer Rating')\n",
    "plt.grid(True)\n",
    "plt.show()"
   ]
  },
  {
   "cell_type": "code",
   "execution_count": null,
   "id": "cab494b5-3f00-4f76-b6c0-e27a87ab84ad",
   "metadata": {},
   "outputs": [],
   "source": [
    "#중요도\n",
    "importance_ratings = data.groupby('Product_importance')['Customer_rating'].mean().reset_index()\n",
    "plt.figure(figsize=(8, 5))\n",
    "sns.barplot(data=importance_ratings, x='Product_importance', y='Customer_rating', palette='pastel')\n",
    "plt.title('Average Customer Ratings by Product Importance')\n",
    "plt.xlabel('Product Importance')\n",
    "plt.ylabel('Average Customer Rating')\n",
    "plt.show()"
   ]
  },
  {
   "cell_type": "code",
   "execution_count": null,
   "id": "06995436-a9d9-4feb-bbdb-7b4329e81a8b",
   "metadata": {},
   "outputs": [],
   "source": [
    "#제품 가격\n",
    "bins = [0, 50, 100, 150, 200, 250, 300, 350, 400, 450, 500]\n",
    "labels = ['0-50', '51-100', '101-150', '151-200', '201-250', '251-300', '301-350', '351-400', '401-450', '451-500']\n",
    "data['Price_range'] = pd.cut(data['Cost_of_the_Product'], bins=bins, labels=labels)\n",
    "price_ratings = data.groupby('Price_range')['Customer_rating'].mean().reset_index()\n",
    "plt.figure(figsize=(12, 6))\n",
    "sns.barplot(data=price_ratings, x='Price_range', y='Customer_rating', palette='Spectral')\n",
    "plt.title('Average Customer Ratings by Product Price Range')\n",
    "plt.xlabel('Product Price Range')\n",
    "plt.ylabel('Average Customer Rating')\n",
    "plt.xticks(rotation=45)\n",
    "plt.show()"
   ]
  },
  {
   "cell_type": "code",
   "execution_count": null,
   "id": "a381f98a-7e39-49df-b55c-f47c5846b87b",
   "metadata": {},
   "outputs": [],
   "source": [
    "data['On_Time_Delivery'] = data['Reached.on.Time_Y.N'].map({1: 'Not on Time', 0: 'On Time'})\n",
    "on_time_ratings = data.groupby('On_Time_Delivery')['Customer_rating'].mean().reset_index()\n",
    "plt.figure(figsize=(8, 5))\n",
    "sns.barplot(data=on_time_ratings, x='On_Time_Delivery', y='Customer_rating', palette='coolwarm')\n",
    "plt.title('Average Customer Ratings by On-Time Delivery Status')\n",
    "plt.xlabel('Delivery Status')\n",
    "plt.ylabel('Average Customer Rating')\n",
    "plt.show()"
   ]
  }
 ],
 "metadata": {
  "kernelspec": {
   "display_name": "Python 3 (ipykernel)",
   "language": "python",
   "name": "python3"
  },
  "language_info": {
   "codemirror_mode": {
    "name": "ipython",
    "version": 3
   },
   "file_extension": ".py",
   "mimetype": "text/x-python",
   "name": "python",
   "nbconvert_exporter": "python",
   "pygments_lexer": "ipython3",
   "version": "3.11.7"
  }
 },
 "nbformat": 4,
 "nbformat_minor": 5
}
